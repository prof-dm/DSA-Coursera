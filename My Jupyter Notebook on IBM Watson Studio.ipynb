{
 "cells": [
  {
   "cell_type": "markdown",
   "metadata": {
    "collapsed": true
   },
   "source": [
    "# My Jupyter Notebook on IBM Watson Studio"
   ]
  },
  {
   "cell_type": "markdown",
   "metadata": {},
   "source": [
    "**Name: Miller Darrell**\n",
    "<p>Desired Occupation: Data Scientist/Analyst<p>"
   ]
  },
  {
   "cell_type": "markdown",
   "metadata": {},
   "source": [
    "*I am interested in data science because of how fascinating data is, the various things which i can get done through the manipulation of data to gain new insights.*\n"
   ]
  },
  {
   "cell_type": "markdown",
   "metadata": {},
   "source": [
    "### This code prints a sentence."
   ]
  },
  {
   "cell_type": "code",
   "execution_count": 2,
   "metadata": {},
   "outputs": [
    {
     "name": "stdout",
     "output_type": "stream",
     "text": [
      "My name is Miller Darrell\n"
     ]
    }
   ],
   "source": [
    "print('My name is Miller Darrell')"
   ]
  },
  {
   "cell_type": "markdown",
   "metadata": {},
   "source": [
    "Lists of Food\n",
    "1. Spaghetti\n",
    "2. Beans\n",
    "3. Rice\n",
    "+ Garri\n",
    "- Bread\n",
    "+ Noodles\n",
    "| S/N | MATERIAL DESCRIPTION | UNIT |\n",
    "|---|:---:|---:|\n",
    "| 1 | 90 DEGREE ELBOW | PCS |"
   ]
  },
  {
   "cell_type": "code",
   "execution_count": null,
   "metadata": {},
   "outputs": [],
   "source": []
  }
 ],
 "metadata": {
  "kernelspec": {
   "display_name": "Python 3.10",
   "language": "python",
   "name": "python3"
  },
  "language_info": {
   "codemirror_mode": {
    "name": "ipython",
    "version": 3
   },
   "file_extension": ".py",
   "mimetype": "text/x-python",
   "name": "python",
   "nbconvert_exporter": "python",
   "pygments_lexer": "ipython3",
   "version": "3.10.6"
  }
 },
 "nbformat": 4,
 "nbformat_minor": 1
}
